{
 "cells": [
  {
   "cell_type": "markdown",
   "id": "66c7df5b-68e7-432a-8a4f-63bb0503d206",
   "metadata": {},
   "source": [
    "# Project Scenario\n",
    "You have been hired as a data engineer by research organization. Your boss has asked you to create a code that can be used to compile the list of the top 10 largest banks in the world ranked by market capitalization in billion USD. Further, the data needs to be transformed and stored in GBP, EUR and INR as well, in accordance with the exchange rate information that has been made available to you as a CSV file. The processed information table is to be saved locally in a CSV format and as a database table.\n",
    "\n",
    "Your job is to create an automated system to generate this information so that the same can be executed in every financial quarter to prepare the report."
   ]
  },
  {
   "cell_type": "markdown",
   "id": "16d48f69-4d82-41cb-b2a0-04e7059ac923",
   "metadata": {},
   "source": [
    "# Import Libraries"
   ]
  },
  {
   "cell_type": "code",
   "execution_count": 72,
   "id": "227fe653-f914-476c-b285-77a811ab280f",
   "metadata": {},
   "outputs": [],
   "source": [
    "import requests\n",
    "import pandas as pd\n",
    "import numpy as np\n",
    "import sqlite3\n",
    "from bs4 import BeautifulSoup\n",
    "from datetime import datetime"
   ]
  },
  {
   "cell_type": "markdown",
   "id": "0c090f9f-e9e2-4a09-924a-85ab3ad1083f",
   "metadata": {},
   "source": [
    "# Initialize the entities"
   ]
  },
  {
   "cell_type": "code",
   "execution_count": 77,
   "id": "fb5313a1-01e4-403a-b0d3-4f5f0b9bd326",
   "metadata": {},
   "outputs": [],
   "source": [
    "Exchange_rate = pd.read_csv('exchange_rate.csv')\n",
    "Output_csv = 'Largest_banks_data.csv'\n",
    "db_name = 'Banks.db'\n",
    "log_file = 'Largest_banks_data.txt'\n",
    "table_name = 'Largest_banks_data'\n",
    "table_attr=['Name',' MC_USD_Billion']"
   ]
  },
  {
   "cell_type": "code",
   "execution_count": 65,
   "id": "1fe31c23-71e7-4dd0-a1f6-b20376f6d42e",
   "metadata": {},
   "outputs": [],
   "source": [
    "URL = \"https://web.archive.org/web/20230908091635%20/https://en.wikipedia.org/wiki/List_of_largest_banks\""
   ]
  },
  {
   "cell_type": "markdown",
   "id": "a6a69626-27a3-40b9-9dce-523fa6a716ed",
   "metadata": {},
   "source": [
    "# Extraction"
   ]
  },
  {
   "cell_type": "code",
   "execution_count": 6,
   "id": "379bd1c8-21db-4421-8b11-3c06ce8d480a",
   "metadata": {},
   "outputs": [],
   "source": [
    "def extract(URL,table_attr):\n",
    "    df =  pd.DataFrame(columns=table_attr)\n",
    "    html_page = requests.get(URL).text\n",
    "    soup = BeautifulSoup(html_page,'html.parser')\n",
    "    rows = soup.find('tbody').find_all('tr')\n",
    "    #print(rows[0])\n",
    "    for row in rows:\n",
    "        col = row.find_all('td')\n",
    "        if len(col)>=3:\n",
    "            data_dict = {'Name':col[1].get_text(strip=True),' MC_USD_Billion': col[2].get_text(strip=True)}\n",
    "            df1 = pd.DataFrame(data_dict,index=[0])\n",
    "            df=pd.concat([df,df1],ignore_index=[0])\n",
    "    return df"
   ]
  },
  {
   "cell_type": "code",
   "execution_count": 15,
   "id": "74cd14e3-eb85-4fda-8af0-728290a70414",
   "metadata": {},
   "outputs": [],
   "source": [
    "#df = extract(URL,table_attr)"
   ]
  },
  {
   "cell_type": "markdown",
   "id": "80872a7b-101a-4319-b7cf-d43ada970734",
   "metadata": {},
   "source": [
    "# Tansformation\n",
    "The data needs to be transformed and stored in GBP, EUR and INR as well, in accordance with the exchange rate information that has been made available to you as a CSV file"
   ]
  },
  {
   "cell_type": "code",
   "execution_count": 14,
   "id": "4ab6ce8d-d98c-463a-9245-64dc5e3001fb",
   "metadata": {},
   "outputs": [
    {
     "data": {
      "text/html": [
       "<div>\n",
       "<style scoped>\n",
       "    .dataframe tbody tr th:only-of-type {\n",
       "        vertical-align: middle;\n",
       "    }\n",
       "\n",
       "    .dataframe tbody tr th {\n",
       "        vertical-align: top;\n",
       "    }\n",
       "\n",
       "    .dataframe thead th {\n",
       "        text-align: right;\n",
       "    }\n",
       "</style>\n",
       "<table border=\"1\" class=\"dataframe\">\n",
       "  <thead>\n",
       "    <tr style=\"text-align: right;\">\n",
       "      <th></th>\n",
       "      <th>Currency</th>\n",
       "      <th>Rate</th>\n",
       "    </tr>\n",
       "  </thead>\n",
       "  <tbody>\n",
       "    <tr>\n",
       "      <th>0</th>\n",
       "      <td>EUR</td>\n",
       "      <td>0.93</td>\n",
       "    </tr>\n",
       "    <tr>\n",
       "      <th>1</th>\n",
       "      <td>GBP</td>\n",
       "      <td>0.80</td>\n",
       "    </tr>\n",
       "    <tr>\n",
       "      <th>2</th>\n",
       "      <td>INR</td>\n",
       "      <td>82.95</td>\n",
       "    </tr>\n",
       "  </tbody>\n",
       "</table>\n",
       "</div>"
      ],
      "text/plain": [
       "  Currency   Rate\n",
       "0      EUR   0.93\n",
       "1      GBP   0.80\n",
       "2      INR  82.95"
      ]
     },
     "execution_count": 14,
     "metadata": {},
     "output_type": "execute_result"
    }
   ],
   "source": [
    "Exchange_rate"
   ]
  },
  {
   "cell_type": "code",
   "execution_count": 17,
   "id": "2fdc1d3b-7190-4d40-9e8d-699c9d3c2d86",
   "metadata": {},
   "outputs": [
    {
     "name": "stdout",
     "output_type": "stream",
     "text": [
      "<class 'pandas.core.series.Series'>\n",
      "RangeIndex: 10 entries, 0 to 9\n",
      "Series name:  MC_USD_Billion\n",
      "Non-Null Count  Dtype \n",
      "--------------  ----- \n",
      "10 non-null     object\n",
      "dtypes: object(1)\n",
      "memory usage: 212.0+ bytes\n"
     ]
    }
   ],
   "source": [
    "#df[' MC_USD_Billion'].info()"
   ]
  },
  {
   "cell_type": "code",
   "execution_count": 61,
   "id": "8947dd70-2ad4-4a6e-95b4-efd5cb54b70e",
   "metadata": {},
   "outputs": [],
   "source": [
    "def transformation(df):\n",
    "    df[' MC_USD_Billion'] = df[' MC_USD_Billion'].astype(float)\n",
    "    for i in range(len(Exchange_rate)):\n",
    "        df[Exchange_rate.Currency[i]] = np.round(df[' MC_USD_Billion']* Exchange_rate.Rate[i],2)\n",
    "    return df"
   ]
  },
  {
   "cell_type": "code",
   "execution_count": 62,
   "id": "9b08c49b-71b0-4f6b-9f02-e3baea42cf6d",
   "metadata": {},
   "outputs": [
    {
     "name": "stdout",
     "output_type": "stream",
     "text": [
      "                                      Name   MC_USD_Billion     EUR     GBP  \\\n",
      "0                           JPMorgan Chase           432.92  402.62  346.34   \n",
      "1                          Bank of America           231.52  215.31  185.22   \n",
      "2  Industrial and Commercial Bank of China           194.56  180.94  155.65   \n",
      "3               Agricultural Bank of China           160.68  149.43  128.54   \n",
      "4                                HDFC Bank           157.91  146.86  126.33   \n",
      "5                              Wells Fargo           155.87  144.96  124.70   \n",
      "6                        HSBC Holdings PLC           148.90  138.48  119.12   \n",
      "7                           Morgan Stanley           140.83  130.97  112.66   \n",
      "8                  China Construction Bank           139.82  130.03  111.86   \n",
      "9                            Bank of China           136.81  127.23  109.45   \n",
      "\n",
      "        INR  \n",
      "0  35910.71  \n",
      "1  19204.58  \n",
      "2  16138.75  \n",
      "3  13328.41  \n",
      "4  13098.63  \n",
      "5  12929.42  \n",
      "6  12351.26  \n",
      "7  11681.85  \n",
      "8  11598.07  \n",
      "9  11348.39  \n"
     ]
    }
   ],
   "source": [
    "#print(transformation(df))\n"
   ]
  },
  {
   "cell_type": "markdown",
   "id": "62ff7f05-a2fd-43c5-95ce-22ce5f2c188b",
   "metadata": {},
   "source": [
    "# Loading\n",
    "The processed information table is to be saved locally in a CSV format and as a database table."
   ]
  },
  {
   "cell_type": "code",
   "execution_count": 66,
   "id": "a535002e-f2cc-4cb1-9717-838d954c9cb6",
   "metadata": {},
   "outputs": [],
   "source": [
    "def load_csv(df,Output_csv):\n",
    "    df.to_csv(Output_csv)\n",
    "\n",
    "def load_db(df,table_name,sql_connection):\n",
    "    df.to_sql(table_name,sql_connection,if_exists='replace',index=False)"
   ]
  },
  {
   "cell_type": "code",
   "execution_count": 70,
   "id": "6bd4048d-f02d-4163-854b-af8661fd6fd1",
   "metadata": {},
   "outputs": [],
   "source": [
    "def query_table(query_statement,sql_connection):\n",
    "    print(query_statement)\n",
    "    query_output = pd.read_sql(query_statement, sql_connection)\n",
    "    print(query_output)"
   ]
  },
  {
   "cell_type": "markdown",
   "id": "93c4f9f6-9eca-476f-b78a-ccff7c24b1e8",
   "metadata": {},
   "source": [
    "# Logging\n",
    "Progress the whole process into a log file"
   ]
  },
  {
   "cell_type": "code",
   "execution_count": 74,
   "id": "798263bc-892e-4af6-8f4e-0a33e0292c34",
   "metadata": {},
   "outputs": [],
   "source": [
    "def log_progress(message):\n",
    "    time_format = '%Y-%h-%d-%H :%M :%S'\n",
    "    now = datetime.now()\n",
    "    timestamp = now.strftime(time_format)\n",
    "    with open (log_file,'a') as f:\n",
    "        f.write (timestamp + ' '+ message)"
   ]
  },
  {
   "cell_type": "markdown",
   "id": "fd848b31-00f6-495f-93de-90d787093500",
   "metadata": {},
   "source": [
    "# Calling the functions"
   ]
  },
  {
   "cell_type": "code",
   "execution_count": 80,
   "id": "225b1835-8b07-4a27-82db-2745d9e566f2",
   "metadata": {},
   "outputs": [
    {
     "name": "stdout",
     "output_type": "stream",
     "text": [
      "SELECT * from Largest_banks_data \n",
      "                                      Name   MC_USD_Billion     EUR     GBP  \\\n",
      "0                           JPMorgan Chase           432.92  402.62  346.34   \n",
      "1                          Bank of America           231.52  215.31  185.22   \n",
      "2  Industrial and Commercial Bank of China           194.56  180.94  155.65   \n",
      "3               Agricultural Bank of China           160.68  149.43  128.54   \n",
      "4                                HDFC Bank           157.91  146.86  126.33   \n",
      "5                              Wells Fargo           155.87  144.96  124.70   \n",
      "6                        HSBC Holdings PLC           148.90  138.48  119.12   \n",
      "7                           Morgan Stanley           140.83  130.97  112.66   \n",
      "8                  China Construction Bank           139.82  130.03  111.86   \n",
      "9                            Bank of China           136.81  127.23  109.45   \n",
      "\n",
      "        INR  \n",
      "0  35910.71  \n",
      "1  19204.58  \n",
      "2  16138.75  \n",
      "3  13328.41  \n",
      "4  13098.63  \n",
      "5  12929.42  \n",
      "6  12351.26  \n",
      "7  11681.85  \n",
      "8  11598.07  \n",
      "9  11348.39  \n"
     ]
    }
   ],
   "source": [
    "log_progress(\"Preliminaries Complete. Initiating ETL Process\\n\")\n",
    "df = extract(URL,table_attr)\n",
    "log_progress(\"Data Extraction Complete. Initiating Transformation Process\\n\")\n",
    "df = transformation(df)\n",
    "log_progress(\"Data Transformation Complete. Initiating Loading Process\\n\")\n",
    "load_csv(df,Output_csv)\n",
    "log_progress(\"Data Loaded to a CSV file\\n\")\n",
    "conn = sqlite3.connect(db_name)\n",
    "log_progress(\"SQL Connection Initialized\\n\")\n",
    "load_db(df,table_name,conn)\n",
    "log_progress(\"Data Loaded to a Database Table. Running the query\\n\")\n",
    "query_statement = f\"SELECT * from {table_name} \"\n",
    "query_table(query_statement, conn)\n",
    "log_progress('Process Complete.\\n')\n",
    "conn.close()"
   ]
  },
  {
   "cell_type": "code",
   "execution_count": null,
   "id": "df4ce78d-8390-4b1a-bff5-35e69f03251d",
   "metadata": {},
   "outputs": [],
   "source": []
  }
 ],
 "metadata": {
  "kernelspec": {
   "display_name": "Python (DE)",
   "language": "python",
   "name": "de"
  },
  "language_info": {
   "codemirror_mode": {
    "name": "ipython",
    "version": 3
   },
   "file_extension": ".py",
   "mimetype": "text/x-python",
   "name": "python",
   "nbconvert_exporter": "python",
   "pygments_lexer": "ipython3",
   "version": "3.12.7"
  }
 },
 "nbformat": 4,
 "nbformat_minor": 5
}
