{
 "cells": [
  {
   "cell_type": "code",
   "execution_count": 1,
   "id": "7b728d68-5382-403b-b77e-b0597dd16645",
   "metadata": {},
   "outputs": [],
   "source": [
    "import sqlite3\n",
    "import pandas as pd"
   ]
  },
  {
   "cell_type": "code",
   "execution_count": 2,
   "id": "8f88c153-21bb-4571-9eba-71f579a7e9d3",
   "metadata": {},
   "outputs": [],
   "source": [
    "#Initialize connection and entities\n",
    "conn = sqlite3.connect('STAFF.db')\n",
    "table_name='Departments'\n",
    "attribute_list = ['DEPT_ID','DEP_NAME','MANAGER_ID','LOC_ID']"
   ]
  },
  {
   "cell_type": "code",
   "execution_count": 3,
   "id": "d764c621-5b4c-4391-9705-ef5b22951f6c",
   "metadata": {},
   "outputs": [
    {
     "name": "stdout",
     "output_type": "stream",
     "text": [
      "   DEPT_ID         DEP_NAME  MANAGER_ID LOC_ID\n",
      "0        2  Architect Group       30001  L0001\n",
      "1        5   Software Group       30002  L0002\n",
      "2        7      Design Team       30003  L0003\n"
     ]
    }
   ],
   "source": [
    "df = pd.read_csv('Departments.csv',names=attribute_list)\n",
    "print(df)"
   ]
  },
  {
   "cell_type": "code",
   "execution_count": 8,
   "id": "c2f33e1a-4b99-47c6-8591-173af7793d6f",
   "metadata": {},
   "outputs": [
    {
     "name": "stdout",
     "output_type": "stream",
     "text": [
      "Table created\n"
     ]
    }
   ],
   "source": [
    "#load this to sql\n",
    "#df.to_sql(table_name, conn, if_exists = 'replace', index =False)\n",
    "df.to_sql(table_name, conn, if_exists='replace', index=False)\n",
    "print(\"Table created\")"
   ]
  },
  {
   "cell_type": "code",
   "execution_count": 9,
   "id": "d4e92741-60f1-4faa-8229-a2059c004eb8",
   "metadata": {},
   "outputs": [],
   "source": [
    "# appending a row to DB"
   ]
  },
  {
   "cell_type": "code",
   "execution_count": 11,
   "id": "2f6bb0d6-a34c-40f4-abbf-60366b069e04",
   "metadata": {},
   "outputs": [
    {
     "data": {
      "text/html": [
       "<div>\n",
       "<style scoped>\n",
       "    .dataframe tbody tr th:only-of-type {\n",
       "        vertical-align: middle;\n",
       "    }\n",
       "\n",
       "    .dataframe tbody tr th {\n",
       "        vertical-align: top;\n",
       "    }\n",
       "\n",
       "    .dataframe thead th {\n",
       "        text-align: right;\n",
       "    }\n",
       "</style>\n",
       "<table border=\"1\" class=\"dataframe\">\n",
       "  <thead>\n",
       "    <tr style=\"text-align: right;\">\n",
       "      <th></th>\n",
       "      <th>DEPT_ID</th>\n",
       "      <th>DEP_NAME</th>\n",
       "      <th>MANAGER_ID</th>\n",
       "      <th>LOC_ID</th>\n",
       "    </tr>\n",
       "  </thead>\n",
       "  <tbody>\n",
       "    <tr>\n",
       "      <th>0</th>\n",
       "      <td>9</td>\n",
       "      <td>Quality Assurance</td>\n",
       "      <td>30010</td>\n",
       "      <td>L0010</td>\n",
       "    </tr>\n",
       "  </tbody>\n",
       "</table>\n",
       "</div>"
      ],
      "text/plain": [
       "   DEPT_ID           DEP_NAME MANAGER_ID LOC_ID\n",
       "0        9  Quality Assurance      30010  L0010"
      ]
     },
     "execution_count": 11,
     "metadata": {},
     "output_type": "execute_result"
    }
   ],
   "source": [
    "data_dict = pd.DataFrame({'DEPT_ID':9,'DEP_NAME':'Quality Assurance','MANAGER_ID':'30010','LOC_ID':'L0010'},index=[0])\n",
    "data_dict"
   ]
  },
  {
   "cell_type": "code",
   "execution_count": 15,
   "id": "f28b7f31-f574-4f1a-b7c1-8406d8b94b59",
   "metadata": {},
   "outputs": [
    {
     "name": "stdout",
     "output_type": "stream",
     "text": [
      "appended Successfully\n"
     ]
    }
   ],
   "source": [
    "data_dict.to_sql(table_name,conn,if_exists='append',index=False)\n",
    "print(\"appended Successfully\")"
   ]
  },
  {
   "cell_type": "code",
   "execution_count": 16,
   "id": "168575ab-86d7-4625-abb7-ac3a6ca20c8c",
   "metadata": {},
   "outputs": [
    {
     "name": "stdout",
     "output_type": "stream",
     "text": [
      "   DEPT_ID           DEP_NAME  MANAGER_ID LOC_ID\n",
      "0        2    Architect Group       30001  L0001\n",
      "1        5     Software Group       30002  L0002\n",
      "2        7        Design Team       30003  L0003\n",
      "3        9  Quality Assurance       30010  L0010\n",
      "4        9  Quality Assurance       30010  L0010\n",
      "5        9  Quality Assurance       30010  L0010\n"
     ]
    }
   ],
   "source": [
    "s_query = f\"SELECT * FROM {table_name}\"\n",
    "s_out = pd.read_sql(s_query,conn)\n",
    "print(s_out)"
   ]
  },
  {
   "cell_type": "code",
   "execution_count": null,
   "id": "ca6231cd-76e8-444a-ad09-09178f2e4dba",
   "metadata": {},
   "outputs": [],
   "source": []
  }
 ],
 "metadata": {
  "kernelspec": {
   "display_name": "Python (DE)",
   "language": "python",
   "name": "de"
  },
  "language_info": {
   "codemirror_mode": {
    "name": "ipython",
    "version": 3
   },
   "file_extension": ".py",
   "mimetype": "text/x-python",
   "name": "python",
   "nbconvert_exporter": "python",
   "pygments_lexer": "ipython3",
   "version": "3.12.7"
  }
 },
 "nbformat": 4,
 "nbformat_minor": 5
}
