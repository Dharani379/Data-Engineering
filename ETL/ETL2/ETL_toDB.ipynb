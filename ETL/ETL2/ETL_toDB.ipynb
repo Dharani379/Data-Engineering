{
 "cells": [
  {
   "cell_type": "markdown",
   "id": "72e8d5ea-aeeb-4164-8d9e-b104e306d587",
   "metadata": {},
   "source": [
    " Consider a dataset of employee records that is available with an HR team in a CSV file. As a Data Engineer, you are required to create the database called STAFF and load the contents of the CSV file as a table called INSTRUCTORS. The headers of the available data are :¶"
   ]
  },
  {
   "cell_type": "code",
   "execution_count": null,
   "id": "bb6a26cc-b985-4083-9cdb-9aca5343422e",
   "metadata": {},
   "outputs": [],
   "source": []
  },
  {
   "cell_type": "code",
   "execution_count": 3,
   "id": "7e1f4a57-9b2e-41a8-ab7d-8117b0e47c46",
   "metadata": {},
   "outputs": [],
   "source": [
    "#Import required libraries\n",
    "import pandas as pd\n",
    "import sqlite3"
   ]
  },
  {
   "cell_type": "code",
   "execution_count": 5,
   "id": "ad8605be-14eb-4f08-9c8b-a8a2b42babdc",
   "metadata": {},
   "outputs": [],
   "source": [
    "#Intialize SQLite3 connection and entities\n",
    "conn = sqlite3.connect('STAFF.db')\n",
    "table_name = 'INSTRUCTORS'\n",
    "attribute_names = ['ID','FNAME','LNAME','CITY','CCODE']\n",
    "\n"
   ]
  },
  {
   "cell_type": "code",
   "execution_count": 7,
   "id": "cda95f48-413f-4c1e-835c-da5a3996b99a",
   "metadata": {},
   "outputs": [],
   "source": [
    "#Read Data from csv file\n",
    "file_path = 'INSTRUCTOR.csv'\n",
    "df = pd.read_csv(file_path,names=attribute_names)\n",
    "#df"
   ]
  },
  {
   "cell_type": "code",
   "execution_count": 8,
   "id": "534f404c-dfb1-47af-8b3d-4e54836bbc3c",
   "metadata": {},
   "outputs": [
    {
     "name": "stdout",
     "output_type": "stream",
     "text": [
      "Table is ready\n"
     ]
    }
   ],
   "source": [
    "df.to_sql(table_name, conn, if_exists = 'replace', index =False)\n",
    "print('Table is ready')"
   ]
  },
  {
   "cell_type": "code",
   "execution_count": 9,
   "id": "df1076e3-a14d-4731-b3e8-b36ab26112ed",
   "metadata": {},
   "outputs": [
    {
     "name": "stdout",
     "output_type": "stream",
     "text": [
      "SELECT * FROM INSTRUCTORS\n",
      "    ID    FNAME      LNAME      CITY CCODE\n",
      "0    1      Rav      Ahuja   TORONTO    CA\n",
      "1    2     Raul      Chong   Markham    CA\n",
      "2    3     Hima  Vasudevan   Chicago    US\n",
      "3    4     John     Thomas  Illinois    US\n",
      "4    5    Alice      James  Illinois    US\n",
      "5    6    Steve      Wells  Illinois    US\n",
      "6    7  Santosh      Kumar  Illinois    US\n",
      "7    8    Ahmed    Hussain  Illinois    US\n",
      "8    9    Nancy      Allen  Illinois    US\n",
      "9   10     Mary     Thomas  Illinois    US\n",
      "10  11  Bharath      Gupta  Illinois    US\n",
      "11  12   Andrea      Jones  Illinois    US\n",
      "12  13      Ann      Jacob  Illinois    US\n",
      "13  14     Amit      Kumar  NewDelhi    IN\n"
     ]
    }
   ],
   "source": [
    "# Let us perform some SQL Queries\n",
    "query_statement = f\"SELECT * FROM {table_name}\"\n",
    "query_output = pd.read_sql(query_statement,conn)\n",
    "print(query_statement)\n",
    "print(query_output)"
   ]
  },
  {
   "cell_type": "code",
   "execution_count": 15,
   "id": "91ec4907-16a0-4124-a29b-c1a330d6a987",
   "metadata": {},
   "outputs": [
    {
     "name": "stdout",
     "output_type": "stream",
     "text": [
      "    ID\n",
      "0    1\n",
      "1    2\n",
      "2    3\n",
      "3    4\n",
      "4    5\n",
      "5    6\n",
      "6    7\n",
      "7    8\n",
      "8    9\n",
      "9   10\n",
      "10  11\n",
      "11  12\n",
      "12  13\n",
      "13  14\n"
     ]
    }
   ],
   "source": [
    "query_statement = f\"SELECT ID FROM {table_name}\"\n",
    "query_output = pd.read_sql(query_statement,conn)\n",
    "print(query_output)"
   ]
  },
  {
   "cell_type": "code",
   "execution_count": 16,
   "id": "c22ba29a-454a-4094-a91d-a48924c5cf8c",
   "metadata": {},
   "outputs": [
    {
     "data": {
      "text/plain": [
       "' Now try appending some data to the table. Consider the following.\\na. Assume the ID is 100.\\nb. Assume the first name, FNAME, is John.\\nc. Assume the last name as LNAME, Doe.\\nd. Assume the city of residence, CITY is Paris.\\ne. Assume the country code, CCODE is FR.'"
      ]
     },
     "execution_count": 16,
     "metadata": {},
     "output_type": "execute_result"
    }
   ],
   "source": [
    "\"\"\" Now try appending some data to the table. Consider the following.\n",
    "a. Assume the ID is 100.\n",
    "b. Assume the first name, FNAME, is John.\n",
    "c. Assume the last name as LNAME, Doe.\n",
    "d. Assume the city of residence, CITY is Paris.\n",
    "e. Assume the country code, CCODE is FR.\"\"\""
   ]
  },
  {
   "cell_type": "code",
   "execution_count": 18,
   "id": "71291360-117d-451b-8fd5-f784b578c45e",
   "metadata": {},
   "outputs": [
    {
     "data": {
      "text/html": [
       "<div>\n",
       "<style scoped>\n",
       "    .dataframe tbody tr th:only-of-type {\n",
       "        vertical-align: middle;\n",
       "    }\n",
       "\n",
       "    .dataframe tbody tr th {\n",
       "        vertical-align: top;\n",
       "    }\n",
       "\n",
       "    .dataframe thead th {\n",
       "        text-align: right;\n",
       "    }\n",
       "</style>\n",
       "<table border=\"1\" class=\"dataframe\">\n",
       "  <thead>\n",
       "    <tr style=\"text-align: right;\">\n",
       "      <th></th>\n",
       "      <th>ID</th>\n",
       "      <th>FNAME</th>\n",
       "      <th>LNAME</th>\n",
       "      <th>CITY</th>\n",
       "      <th>CCODE</th>\n",
       "    </tr>\n",
       "  </thead>\n",
       "  <tbody>\n",
       "    <tr>\n",
       "      <th>0</th>\n",
       "      <td>100</td>\n",
       "      <td>John</td>\n",
       "      <td>Doe</td>\n",
       "      <td>Paris</td>\n",
       "      <td>FR</td>\n",
       "    </tr>\n",
       "  </tbody>\n",
       "</table>\n",
       "</div>"
      ],
      "text/plain": [
       "    ID FNAME LNAME   CITY CCODE\n",
       "0  100  John   Doe  Paris    FR"
      ]
     },
     "execution_count": 18,
     "metadata": {},
     "output_type": "execute_result"
    }
   ],
   "source": [
    "df = pd.DataFrame({'ID':100,'FNAME':'John','LNAME':'Doe',\"CITY\":'Paris','CCODE':'FR'},index=[0])\n",
    "df\n"
   ]
  },
  {
   "cell_type": "code",
   "execution_count": 19,
   "id": "7ffe2f9b-ea68-458a-a694-21233bc17470",
   "metadata": {},
   "outputs": [
    {
     "name": "stdout",
     "output_type": "stream",
     "text": [
      "Data Appended Successfully\n"
     ]
    }
   ],
   "source": [
    "df.to_sql(table_name,conn,if_exists = 'append',index=False)\n",
    "print(\"Data Appended Successfully\")"
   ]
  },
  {
   "cell_type": "code",
   "execution_count": 21,
   "id": "b43f0a48-ec33-4439-ba10-dcc00aa3583f",
   "metadata": {},
   "outputs": [
    {
     "name": "stdout",
     "output_type": "stream",
     "text": [
      "      FNAME\n",
      "0       Rav\n",
      "1      Raul\n",
      "2      Hima\n",
      "3      John\n",
      "4     Alice\n",
      "5     Steve\n",
      "6   Santosh\n",
      "7     Ahmed\n",
      "8     Nancy\n",
      "9      Mary\n",
      "10  Bharath\n",
      "11   Andrea\n",
      "12      Ann\n",
      "13     Amit\n",
      "14     John\n"
     ]
    }
   ],
   "source": [
    "query_ = f\"SELECT FNAME FROM {table_name}\"\n",
    "query_output = pd.read_sql(query_,conn)\n",
    "print(query_output)"
   ]
  },
  {
   "cell_type": "code",
   "execution_count": 22,
   "id": "8922ae94-6838-492b-b6b2-735d887b6d4b",
   "metadata": {},
   "outputs": [],
   "source": [
    "conn.close()"
   ]
  },
  {
   "cell_type": "code",
   "execution_count": null,
   "id": "a2a8e464-5c30-4b08-99b5-1a1b055fd217",
   "metadata": {},
   "outputs": [],
   "source": []
  }
 ],
 "metadata": {
  "kernelspec": {
   "display_name": "Python (DE)",
   "language": "python",
   "name": "de"
  },
  "language_info": {
   "codemirror_mode": {
    "name": "ipython",
    "version": 3
   },
   "file_extension": ".py",
   "mimetype": "text/x-python",
   "name": "python",
   "nbconvert_exporter": "python",
   "pygments_lexer": "ipython3",
   "version": "3.12.7"
  }
 },
 "nbformat": 4,
 "nbformat_minor": 5
}
