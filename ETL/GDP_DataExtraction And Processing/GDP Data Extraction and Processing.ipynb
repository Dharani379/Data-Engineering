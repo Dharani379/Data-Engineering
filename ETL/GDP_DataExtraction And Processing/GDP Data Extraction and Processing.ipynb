{
 "cells": [
  {
   "cell_type": "markdown",
   "id": "1e29763c-8180-428c-a29d-c248d3b37f76",
   "metadata": {},
   "source": [
    "# Project Scenario\n",
    "\n",
    "An international firm that is looking to expand its business in different countries across the world has recruited you. You have been hired as a junior Data Engineer and are tasked with creating a script that can extract the list of the top 10 largest economies of the world in descending order of their GDPs in Billion USD (rounded to 2 decimal places), as logged by the International Monetary Fund (IMF).\n",
    "\n",
    "The required data seems to be available on the URL mentioned below:\n",
    "\n",
    "URL: https://web.archive.org/web/20230902185326/https://en.wikipedia.org/wiki/List_of_countries_by_GDP_%28nominal%29\n"
   ]
  },
  {
   "cell_type": "raw",
   "id": "ef3b772b-b850-4be4-b983-513139a172c9",
   "metadata": {},
   "source": []
  },
  {
   "cell_type": "markdown",
   "id": "dfe96dee-8b64-43c1-a0dc-bff6c7c64f5a",
   "metadata": {},
   "source": [
    "# Install and import required libraries"
   ]
  },
  {
   "cell_type": "code",
   "execution_count": 1,
   "id": "c461796a-46e5-473a-8588-f639e7634444",
   "metadata": {},
   "outputs": [
    {
     "name": "stdout",
     "output_type": "stream",
     "text": [
      "Requirement already satisfied: lxml in /Users/dharanimeka/Desktop/DataEngineering/DE/lib/python3.12/site-packages (5.3.2)\n",
      "\n",
      "\u001b[1m[\u001b[0m\u001b[34;49mnotice\u001b[0m\u001b[1;39;49m]\u001b[0m\u001b[39;49m A new release of pip is available: \u001b[0m\u001b[31;49m24.2\u001b[0m\u001b[39;49m -> \u001b[0m\u001b[32;49m25.1.1\u001b[0m\n",
      "\u001b[1m[\u001b[0m\u001b[34;49mnotice\u001b[0m\u001b[1;39;49m]\u001b[0m\u001b[39;49m To update, run: \u001b[0m\u001b[32;49mpip install --upgrade pip\u001b[0m\n"
     ]
    }
   ],
   "source": [
    "!pip install lxml"
   ]
  },
  {
   "cell_type": "code",
   "execution_count": 2,
   "id": "e778b7ce-2007-4440-b290-36aa8ac0a237",
   "metadata": {},
   "outputs": [],
   "source": [
    "from bs4 import BeautifulSoup\n",
    "import pandas as pd\n",
    "import numpy as np\n",
    "import requests\n",
    "import sqlite3\n",
    "from datetime import datetime\n"
   ]
  },
  {
   "cell_type": "markdown",
   "id": "82f19938-01f8-4be8-92e1-b30ee13fb13e",
   "metadata": {},
   "source": [
    "# Extract the data using web scraping"
   ]
  },
  {
   "cell_type": "code",
   "execution_count": 3,
   "id": "75aa41cd-822b-467c-bb6d-c735a77ba9e8",
   "metadata": {},
   "outputs": [],
   "source": [
    "#Initialize the entities required"
   ]
  },
  {
   "cell_type": "code",
   "execution_count": 4,
   "id": "b6ef8c83-46ee-4b02-b0f1-bb107e36dbd4",
   "metadata": {},
   "outputs": [],
   "source": [
    "log_file = './etl_project_log.txt'"
   ]
  },
  {
   "cell_type": "code",
   "execution_count": 5,
   "id": "365b0d3b-b26c-4e2a-bdba-a060f333667b",
   "metadata": {},
   "outputs": [],
   "source": [
    "URL = \"https://en.wikipedia.org/wiki/List_of_countries_by_GDP_(nominal)\"\n",
    "table_columns = ['Countries','GDP(in Million USD)']\n",
    "db_name = 'World_Ecoomies.db'\n",
    "table_name = 'Countries_by_GDP'\n",
    "csv_path = './Countries_by_GDP.csv'\n"
   ]
  },
  {
   "cell_type": "code",
   "execution_count": 24,
   "id": "3ddae7a1-c0cc-4c54-966c-6a970d7d22da",
   "metadata": {},
   "outputs": [],
   "source": [
    "def extract(URL,table_columns):\n",
    "    df = pd.DataFrame(columns=table_columns)\n",
    "    html_page = requests.get(URL).text\n",
    "    soup = BeautifulSoup(html_page, 'html.parser')\n",
    "    tables = soup.find_all('tbody')\n",
    "    #print(tables[0])\n",
    "    table = tables[2]\n",
    "    rows = table.find_all('tr')\n",
    "    for row in rows[3:]:\n",
    "        col = row.find_all('td')\n",
    "        if len(col)!=0 :\n",
    "            if col[0].find('a') is not None and '—' not in col[1]:\n",
    "                data_dict = {'Countries':col[0].find('a').contents, 'GDP(in Million USD)':col[1]}\n",
    "                df1 = pd.DataFrame(data_dict,index=[0])\n",
    "                df = pd.concat([df,df1],ignore_index=True)\n",
    "    #print(df)\n",
    "    return df\n",
    "    \n",
    "            "
   ]
  },
  {
   "cell_type": "code",
   "execution_count": 25,
   "id": "43d63b8e-7a74-49b6-8fb9-91fd54252ade",
   "metadata": {},
   "outputs": [
    {
     "data": {
      "text/html": [
       "<div>\n",
       "<style scoped>\n",
       "    .dataframe tbody tr th:only-of-type {\n",
       "        vertical-align: middle;\n",
       "    }\n",
       "\n",
       "    .dataframe tbody tr th {\n",
       "        vertical-align: top;\n",
       "    }\n",
       "\n",
       "    .dataframe thead th {\n",
       "        text-align: right;\n",
       "    }\n",
       "</style>\n",
       "<table border=\"1\" class=\"dataframe\">\n",
       "  <thead>\n",
       "    <tr style=\"text-align: right;\">\n",
       "      <th></th>\n",
       "      <th>Countries</th>\n",
       "      <th>GDP(in Million USD)</th>\n",
       "    </tr>\n",
       "  </thead>\n",
       "  <tbody>\n",
       "    <tr>\n",
       "      <th>0</th>\n",
       "      <td>United States</td>\n",
       "      <td>30,507,217</td>\n",
       "    </tr>\n",
       "    <tr>\n",
       "      <th>1</th>\n",
       "      <td>China</td>\n",
       "      <td>19,231,705</td>\n",
       "    </tr>\n",
       "    <tr>\n",
       "      <th>2</th>\n",
       "      <td>Germany</td>\n",
       "      <td>4,744,804</td>\n",
       "    </tr>\n",
       "    <tr>\n",
       "      <th>3</th>\n",
       "      <td>India</td>\n",
       "      <td>4,187,017</td>\n",
       "    </tr>\n",
       "    <tr>\n",
       "      <th>4</th>\n",
       "      <td>Japan</td>\n",
       "      <td>4,186,431</td>\n",
       "    </tr>\n",
       "    <tr>\n",
       "      <th>...</th>\n",
       "      <td>...</td>\n",
       "      <td>...</td>\n",
       "    </tr>\n",
       "    <tr>\n",
       "      <th>186</th>\n",
       "      <td>Palau</td>\n",
       "      <td>333</td>\n",
       "    </tr>\n",
       "    <tr>\n",
       "      <th>187</th>\n",
       "      <td>Kiribati</td>\n",
       "      <td>312</td>\n",
       "    </tr>\n",
       "    <tr>\n",
       "      <th>188</th>\n",
       "      <td>Marshall Islands</td>\n",
       "      <td>297</td>\n",
       "    </tr>\n",
       "    <tr>\n",
       "      <th>189</th>\n",
       "      <td>Nauru</td>\n",
       "      <td>169</td>\n",
       "    </tr>\n",
       "    <tr>\n",
       "      <th>190</th>\n",
       "      <td>Tuvalu</td>\n",
       "      <td>65</td>\n",
       "    </tr>\n",
       "  </tbody>\n",
       "</table>\n",
       "<p>191 rows × 2 columns</p>\n",
       "</div>"
      ],
      "text/plain": [
       "            Countries GDP(in Million USD)\n",
       "0       United States          30,507,217\n",
       "1               China          19,231,705\n",
       "2             Germany           4,744,804\n",
       "3               India           4,187,017\n",
       "4               Japan           4,186,431\n",
       "..                ...                 ...\n",
       "186             Palau                 333\n",
       "187          Kiribati                 312\n",
       "188  Marshall Islands                 297\n",
       "189             Nauru                 169\n",
       "190            Tuvalu                  65\n",
       "\n",
       "[191 rows x 2 columns]"
      ]
     },
     "execution_count": 25,
     "metadata": {},
     "output_type": "execute_result"
    }
   ],
   "source": [
    "extract(URL,table_columns)\n"
   ]
  },
  {
   "cell_type": "markdown",
   "id": "1134d36f-fb57-4de1-8da9-afeb155d8ce5",
   "metadata": {},
   "source": [
    "# Transform Million USD to Billion USD"
   ]
  },
  {
   "cell_type": "code",
   "execution_count": 21,
   "id": "82cea9ed-e865-4f0b-b2e4-717563f1cda6",
   "metadata": {},
   "outputs": [],
   "source": [
    "def transform(df):\n",
    "\n",
    "    df['GDP(in Million USD)']= df['GDP(in Million USD)'].str.replace(',','').astype(int)\n",
    "    #df.info()\n",
    "    df['GDP(in Million USD)'] = np.round(df['GDP(in Million USD)']*0.001, 2)\n",
    "    df.rename(columns={'GDP(in Million USD)':'GDP(Billion USD)'},inplace = True)\n",
    "    return df"
   ]
  },
  {
   "cell_type": "code",
   "execution_count": 9,
   "id": "5736a25c-a13b-47b5-9ab9-1912c6287ccb",
   "metadata": {},
   "outputs": [],
   "source": [
    "#df = extract(URL,table_columns)\n",
    "#transform(df)"
   ]
  },
  {
   "cell_type": "markdown",
   "id": "a80e6189-b1f6-41eb-9643-125abde2c750",
   "metadata": {},
   "source": [
    "# Loading information"
   ]
  },
  {
   "cell_type": "code",
   "execution_count": 10,
   "id": "eed11481-6d4b-46ad-9602-b50d3950f7c3",
   "metadata": {},
   "outputs": [],
   "source": [
    "# Load the dataFrame into csv file"
   ]
  },
  {
   "cell_type": "code",
   "execution_count": 11,
   "id": "04c59cee-ce37-4435-8f64-2611fefdcce6",
   "metadata": {},
   "outputs": [],
   "source": [
    "def load_csv(df,csv_path):\n",
    "    df.to_csv(csv_path)"
   ]
  },
  {
   "cell_type": "code",
   "execution_count": 12,
   "id": "f75d19f0-0fa9-4f30-9ab5-99080c724774",
   "metadata": {},
   "outputs": [],
   "source": [
    "# load the data frame into a table in database"
   ]
  },
  {
   "cell_type": "code",
   "execution_count": 13,
   "id": "dea93e59-60ed-4df3-9a15-35957c5e24e6",
   "metadata": {},
   "outputs": [],
   "source": [
    "def load_db(df,table_name,conn):\n",
    "    df.to_sql(table_name,conn,if_exists='replace',index=False)"
   ]
  },
  {
   "cell_type": "code",
   "execution_count": null,
   "id": "eed12e58-be51-41ee-b099-47fdf774c6dc",
   "metadata": {},
   "outputs": [],
   "source": []
  },
  {
   "cell_type": "markdown",
   "id": "621fe5de-a516-4efd-8b58-18dbbe26e1d7",
   "metadata": {},
   "source": [
    "# Querying the database Table"
   ]
  },
  {
   "cell_type": "code",
   "execution_count": 17,
   "id": "6ba54863-3e36-4435-9430-4526651da9d4",
   "metadata": {},
   "outputs": [],
   "source": [
    "def query_table(query_statement,sql_connection):\n",
    "    print(query_statement)\n",
    "    query_output = pd.read_sql(query_statement, sql_connection)\n",
    "    print(query_output)"
   ]
  },
  {
   "cell_type": "markdown",
   "id": "b408ee2f-e0a4-404d-bd55-ab0a63d17e17",
   "metadata": {},
   "source": [
    "# Logging progress"
   ]
  },
  {
   "cell_type": "code",
   "execution_count": 18,
   "id": "6e4a207c-53e2-4617-a567-8b7236e36511",
   "metadata": {},
   "outputs": [],
   "source": [
    "def log_progress(message):\n",
    "    time_format = \"%Y-%h-%d-%H-%M-%S\" #year-Month-day-hour-second\n",
    "    now = datetime.now()\n",
    "    timestamp = now.strftime(time_format)\n",
    "    with open(log_file,'a')as f:\n",
    "        f.write(timestamp + \" : \" + message + '\\n')\n",
    "        "
   ]
  },
  {
   "cell_type": "markdown",
   "id": "c5baaa57-30b6-4ef9-97d7-e4d28f2be352",
   "metadata": {},
   "source": [
    "# Calling the functions"
   ]
  },
  {
   "cell_type": "code",
   "execution_count": 23,
   "id": "b93a73ce-65c5-4dd6-a89b-c24a65dd1ae6",
   "metadata": {},
   "outputs": [
    {
     "name": "stdout",
     "output_type": "stream",
     "text": [
      "SELECT * from Countries_by_GDP WHERE [GDP(Billion USD)] >= 100\n",
      "        Countries  GDP(Billion USD)\n",
      "0   United States          30507.22\n",
      "1           China          19231.71\n",
      "2         Germany           4744.80\n",
      "3           India           4187.02\n",
      "4           Japan           4186.43\n",
      "..            ...               ...\n",
      "67       Bulgaria            117.01\n",
      "68         Angola            113.34\n",
      "69      Venezuela            108.51\n",
      "70           Oman            104.35\n",
      "71     Costa Rica            102.59\n",
      "\n",
      "[72 rows x 2 columns]\n"
     ]
    }
   ],
   "source": [
    "log_progress('Preliminaries complete. Initiating ETL process')\n",
    "df = extract(URL,table_columns)\n",
    "log_progress('Data extraction complete. Initiating Transformation process')\n",
    "df = transform(df)\n",
    "log_progress('Data transformation complete. Initiating loading process')\n",
    "load_csv(df, csv_path)\n",
    "log_progress('Data saved to CSV file')\n",
    "sql_connection = sqlite3.connect('World_Economies.db')\n",
    "log_progress('SQL Connection initiated.')\n",
    "load_db(df,table_name,sql_connection)\n",
    "log_progress('Data loaded to Database as table. Running the query')\n",
    "log_progress('Data loaded to Database as table. Running the query')\n",
    "query_statement = f\"SELECT * from {table_name} WHERE [GDP(Billion USD)] >= 100\"\n",
    "query_table(query_statement, sql_connection)\n",
    "log_progress('Process Complete.')\n",
    "sql_connection.close()"
   ]
  },
  {
   "cell_type": "code",
   "execution_count": null,
   "id": "556b1c9b-58ea-4f71-911c-809742c326e4",
   "metadata": {},
   "outputs": [],
   "source": []
  }
 ],
 "metadata": {
  "kernelspec": {
   "display_name": "Python (DE)",
   "language": "python",
   "name": "de"
  },
  "language_info": {
   "codemirror_mode": {
    "name": "ipython",
    "version": 3
   },
   "file_extension": ".py",
   "mimetype": "text/x-python",
   "name": "python",
   "nbconvert_exporter": "python",
   "pygments_lexer": "ipython3",
   "version": "3.12.7"
  }
 },
 "nbformat": 4,
 "nbformat_minor": 5
}
